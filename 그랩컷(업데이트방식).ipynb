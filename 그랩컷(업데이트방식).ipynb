{
 "cells": [
  {
   "cell_type": "code",
   "execution_count": 3,
   "metadata": {},
   "outputs": [
    {
     "name": "stdout",
     "output_type": "stream",
     "text": [
      "Requirement already satisfied: opencv-python in c:\\users\\rkdwn\\anaconda3\\lib\\site-packages (4.5.1.48)\n",
      "Requirement already satisfied: numpy>=1.17.3 in c:\\users\\rkdwn\\anaconda3\\lib\\site-packages (from opencv-python) (1.20.1)\n"
     ]
    }
   ],
   "source": [
    "\n",
    "import sys\n",
    "import numpy as np\n",
    "import cv2\n",
    "import matplotlib.pyplot as plt\n",
    "import random\n",
    "\n",
    "\n",
    "!pip install opencv-python"
   ]
  },
  {
   "cell_type": "code",
   "execution_count": 5,
   "metadata": {},
   "outputs": [
    {
     "name": "stdout",
     "output_type": "stream",
     "text": [
      "426 640\n",
      "(640, 426, 3)\n"
     ]
    }
   ],
   "source": [
    "nemo = cv2.imread('nemo.jpg')\n",
    "h,w=nemo.shape[:2]\n",
    "print(h,w)\n",
    "dsize=h,w\n",
    "src=cv2.imread('junekoo.jpg')\n",
    "src=cv2.resize(src,dsize)\n",
    "print(src.shape)\n"
   ]
  },
  {
   "cell_type": "code",
   "execution_count": 6,
   "metadata": {},
   "outputs": [],
   "source": [
    "if src is None:\n",
    "\n",
    "    print('Image load failed!')\n",
    "\n",
    "    sys.exit()"
   ]
  },
  {
   "cell_type": "markdown",
   "metadata": {},
   "source": [
    "배경과 전경은 무조건 1해 65열 짜리로 만들어 줍니다. 그리고 float64로 한뒤 이것을 계속 업데이트 하여 사용할 겁니다."
   ]
  },
  {
   "cell_type": "code",
   "execution_count": 7,
   "metadata": {},
   "outputs": [],
   "source": [
    "mask = np.zeros(src.shape[:2], np.uint8)  # 마스크\n",
    "\n",
    "bgdModel = np.zeros((1, 65), np.float64)  # 배경 모델\n",
    "\n",
    "fgdModel = np.zeros((1, 65), np.float64)  # 전경 모델"
   ]
  },
  {
   "cell_type": "code",
   "execution_count": 8,
   "metadata": {},
   "outputs": [],
   "source": [
    "rc = cv2.selectROI(src)"
   ]
  },
  {
   "cell_type": "code",
   "execution_count": 9,
   "metadata": {},
   "outputs": [
    {
     "data": {
      "text/plain": [
       "(array([[0, 0, 0, ..., 0, 0, 0],\n",
       "        [0, 0, 0, ..., 0, 0, 0],\n",
       "        [0, 0, 0, ..., 0, 0, 0],\n",
       "        ...,\n",
       "        [0, 0, 0, ..., 0, 0, 0],\n",
       "        [0, 0, 0, ..., 0, 0, 0],\n",
       "        [0, 0, 0, ..., 0, 0, 0]], dtype=uint8),\n",
       " array([[ 3.74439185e-01,  1.13127656e-01,  2.44488304e-01,\n",
       "          6.23364546e-02,  2.05608401e-01,  2.40509650e+02,\n",
       "          2.05306630e+02,  1.92697571e+02,  1.59443551e+02,\n",
       "          1.20840359e+02,  1.13611500e+02,  2.25389714e+02,\n",
       "          1.83358617e+02,  1.67138935e+02,  1.42329313e+02,\n",
       "          9.91323599e+01,  8.25716553e+01,  1.88964105e+02,\n",
       "          1.47552086e+02,  1.38021099e+02,  3.13348904e+01,\n",
       "          4.05575057e+01,  4.53996119e+01,  4.05575057e+01,\n",
       "          6.03088868e+01,  7.08364623e+01,  4.53996119e+01,\n",
       "          7.08364623e+01,  8.96474825e+01,  3.72102607e+02,\n",
       "          1.95877106e+02, -1.10564847e+02,  1.95877106e+02,\n",
       "          1.18385665e+02, -3.38688856e+01, -1.10564847e+02,\n",
       "         -3.38688856e+01,  1.15298346e+02,  5.55341992e+01,\n",
       "          5.00844762e+01,  4.50270270e+01,  5.00844762e+01,\n",
       "          6.07939246e+01,  6.18525144e+01,  4.50270270e+01,\n",
       "          6.18525144e+01,  8.58847354e+01,  2.85721739e+02,\n",
       "          1.60100040e+02,  5.83584059e+01,  1.60100040e+02,\n",
       "          1.35319729e+02,  9.29369528e+01,  5.83584059e+01,\n",
       "          9.29369528e+01,  1.70097905e+02,  1.80942704e+02,\n",
       "          1.06811690e+02, -2.87490141e+01,  1.06811690e+02,\n",
       "          8.62015766e+01,  3.39527936e+01, -2.87490141e+01,\n",
       "          3.39527936e+01,  1.55756159e+02]]),\n",
       " array([[ 4.61059323e-01,  1.75328821e-01,  7.76685254e-02,\n",
       "          1.10444246e-01,  1.75499085e-01,  3.52464379e+01,\n",
       "          4.11660255e+00,  1.58975227e+00,  1.98107955e+02,\n",
       "          1.54773165e+02,  1.33708910e+02,  1.31426562e+02,\n",
       "          8.89660212e+01,  7.14755206e+01,  2.26771069e+02,\n",
       "          1.87920735e+02,  1.71536228e+02,  1.56953836e+02,\n",
       "          1.21942113e+02,  1.21299782e+02,  1.27329144e+02,\n",
       "          6.88961455e+01,  2.81554474e+01,  6.88961455e+01,\n",
       "          4.08495828e+01,  1.83150770e+01,  2.81554474e+01,\n",
       "          1.83150770e+01,  1.09484532e+01,  8.84290676e+01,\n",
       "          7.66414662e+01,  5.99850542e+01,  7.66414662e+01,\n",
       "          8.19154472e+01,  7.98674496e+01,  5.99850542e+01,\n",
       "          7.98674496e+01,  1.30756328e+02,  9.37361523e+02,\n",
       "          8.13279200e+02,  5.03081414e+02,  8.13279200e+02,\n",
       "          7.45032094e+02,  4.85907097e+02,  5.03081414e+02,\n",
       "          4.85907097e+02,  4.36673953e+02,  1.26928577e+02,\n",
       "          1.46975045e+02,  1.67527050e+02,  1.46975045e+02,\n",
       "          1.91929354e+02,  2.36325906e+02,  1.67527050e+02,\n",
       "          2.36325906e+02,  3.46287742e+02,  2.78224322e+02,\n",
       "          1.51665369e+02, -9.22675095e+01,  1.51665369e+02,\n",
       "          1.02600255e+02,  5.31446711e+00, -9.22675095e+01,\n",
       "          5.31446711e+00,  2.25974000e+02]]))"
      ]
     },
     "execution_count": 9,
     "metadata": {},
     "output_type": "execute_result"
    }
   ],
   "source": [
    "cv2.grabCut(src, mask, rc, bgdModel, fgdModel, 1, cv2.GC_INIT_WITH_RECT)"
   ]
  },
  {
   "cell_type": "code",
   "execution_count": 10,
   "metadata": {},
   "outputs": [],
   "source": [
    "mask2 = np.where((mask == 0) | (mask == 2), 0, 1).astype('uint8')\n",
    "\n",
    "dst = src * mask2[:, :, np.newaxis]"
   ]
  },
  {
   "cell_type": "code",
   "execution_count": 11,
   "metadata": {},
   "outputs": [],
   "source": [
    "cv2.imshow('dst', dst)"
   ]
  },
  {
   "cell_type": "code",
   "execution_count": 12,
   "metadata": {},
   "outputs": [],
   "source": [
    "def on_mouse(event, x, y, flags, param):\n",
    "\n",
    "    #왼쪽버튼을 누르면 포워드\n",
    "\n",
    "    if event == cv2.EVENT_LBUTTONDOWN:\n",
    "\n",
    "        cv2.circle(dst, (x, y), 3, (255, 0, 0), -1)\n",
    "\n",
    "        #파란색\n",
    "\n",
    "        cv2.circle(mask, (x, y), 3, cv2.GC_FGD, -1)\n",
    "\n",
    "        cv2.imshow('dst', dst)\n",
    "\n",
    "    elif event == cv2.EVENT_RBUTTONDOWN:\n",
    "\n",
    "        #오른쪽버튼을 누르면 백그라운드\n",
    "\n",
    "        cv2.circle(dst, (x, y), 3, (0, 0, 255), -1)\n",
    "\n",
    "        cv2.circle(mask, (x, y), 3, cv2.GC_BGD, -1)\n",
    "\n",
    "        cv2.imshow('dst', dst)\n",
    "\n",
    "    elif event == cv2.EVENT_MOUSEMOVE:\n",
    "\n",
    "        #왼쪽버튼 눌른상태에서 움직이면 포워드\n",
    "\n",
    "        if flags & cv2.EVENT_FLAG_LBUTTON:\n",
    "\n",
    "            cv2.circle(dst, (x, y), 3, (255, 0, 0), -1)\n",
    "\n",
    "            cv2.circle(mask, (x, y), 3, cv2.GC_FGD, -1)\n",
    "\n",
    "            cv2.imshow('dst', dst)\n",
    "\n",
    "        elif flags & cv2.EVENT_FLAG_RBUTTON:\n",
    "\n",
    "            #오른쪽버튼 눌른상태에서 움직이면 백그라운드\n",
    "\n",
    "            cv2.circle(dst, (x, y), 3, (0, 0, 255), -1)\n",
    "\n",
    "            cv2.circle(mask, (x, y), 3, cv2.GC_BGD, -1)\n",
    "\n",
    "            cv2.imshow('dst', dst)"
   ]
  },
  {
   "cell_type": "markdown",
   "metadata": {},
   "source": [
    "마우스 이벤트를 받기 위해서 콜백함수를 추가하였습니다. "
   ]
  },
  {
   "cell_type": "code",
   "execution_count": 13,
   "metadata": {},
   "outputs": [],
   "source": [
    "cv2.setMouseCallback('dst', on_mouse)"
   ]
  },
  {
   "cell_type": "code",
   "execution_count": 14,
   "metadata": {},
   "outputs": [],
   "source": [
    "while True:\n",
    "\n",
    "    key = cv2.waitKey()\n",
    "\n",
    "    if key == 13:  # ENTER키를 누르면\n",
    "\n",
    "        # 사용자가 지정한 전경/배경 정보를 활용하여 영상 분할\n",
    "\n",
    "        #엔터면 그랙컷 다시호출\n",
    "        #마스크 입력을 한번 더줘서 결과를 출력해 줍니다.\n",
    "\n",
    "        cv2.grabCut(src, mask, rc, bgdModel, fgdModel, 1, cv2.GC_INIT_WITH_MASK)\n",
    "\n",
    "        mask2 = np.where((mask == 2) | (mask == 0), 0, 1).astype('uint8')\n",
    "\n",
    "        dst = src * mask2[:, :, np.newaxis]\n",
    "\n",
    "        cv2.imshow('dst', dst)\n",
    "\n",
    "    elif key == 27:\n",
    "\n",
    "        break"
   ]
  },
  {
   "cell_type": "code",
   "execution_count": 15,
   "metadata": {},
   "outputs": [],
   "source": [
    "cv2.destroyAllWindows()"
   ]
  },
  {
   "cell_type": "code",
   "execution_count": null,
   "metadata": {},
   "outputs": [],
   "source": []
  }
 ],
 "metadata": {
  "kernelspec": {
   "display_name": "Python 3",
   "language": "python",
   "name": "python3"
  },
  "language_info": {
   "codemirror_mode": {
    "name": "ipython",
    "version": 3
   },
   "file_extension": ".py",
   "mimetype": "text/x-python",
   "name": "python",
   "nbconvert_exporter": "python",
   "pygments_lexer": "ipython3",
   "version": "3.8.5"
  }
 },
 "nbformat": 4,
 "nbformat_minor": 4
}
