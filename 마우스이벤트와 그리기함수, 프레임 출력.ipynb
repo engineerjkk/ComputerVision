{
 "cells": [
  {
   "cell_type": "code",
   "execution_count": 1,
   "metadata": {},
   "outputs": [
    {
     "name": "stdout",
     "output_type": "stream",
     "text": [
      "Requirement already satisfied: opencv-python in c:\\users\\rkdwn\\anaconda3\\lib\\site-packages (4.5.1.48)\n",
      "Requirement already satisfied: numpy>=1.17.3 in c:\\users\\rkdwn\\anaconda3\\lib\\site-packages (from opencv-python) (1.20.1)\n"
     ]
    }
   ],
   "source": [
    "import cv2\n",
    "import numpy as np\n",
    "!pip install opencv-python"
   ]
  },
  {
   "cell_type": "markdown",
   "metadata": {},
   "source": [
    "# 1. Video / Camera 읽기"
   ]
  },
  {
   "cell_type": "code",
   "execution_count": 2,
   "metadata": {},
   "outputs": [],
   "source": [
    "#cap = cv2.VideoCapture('stopwatch.avi')\n",
    "cap = cv2.VideoCapture(0)\n",
    "\n",
    "if not cap.isOpened():\n",
    "    print(\"Video open failed!\")\n",
    "else :\n",
    "    \n",
    "    while True:\n",
    "        ret, frame = cap.read()\n",
    "        #(ret, frame) = cap.read()\n",
    "\n",
    "        if not ret:  break\n",
    "\n",
    "        cv2.imshow('frame', frame)\n",
    "\n",
    "        if cv2.waitKey(10) == 27:  break   # ESC\n",
    "cap.release()\n",
    "cv2.destroyAllWindows()"
   ]
  },
  {
   "cell_type": "code",
   "execution_count": null,
   "metadata": {},
   "outputs": [],
   "source": [
    "def fun() :\n",
    "    return (5, 20, 'hello')\n",
    "\n",
    "a = fun()\n",
    "print(a)\n",
    "p1, p2, p3 = fun()\n",
    "print(p1)\n",
    "print(p2)\n",
    "print(p3)\n",
    "\n",
    "p1, p2, _ = fun()"
   ]
  },
  {
   "cell_type": "markdown",
   "metadata": {},
   "source": [
    "# 2. 동영상 출력"
   ]
  },
  {
   "cell_type": "code",
   "execution_count": null,
   "metadata": {},
   "outputs": [],
   "source": [
    "cap = cv2.VideoCapture('stopwatch.avi')"
   ]
  },
  {
   "cell_type": "code",
   "execution_count": null,
   "metadata": {},
   "outputs": [],
   "source": [
    "w = round(cap.get(cv2.CAP_PROP_FRAME_WIDTH))\n",
    "h = round(cap.get(cv2.CAP_PROP_FRAME_HEIGHT))\n",
    "fps = cap.get(cv2.CAP_PROP_FPS)\n",
    "print(w, h, fps)"
   ]
  },
  {
   "cell_type": "code",
   "execution_count": null,
   "metadata": {},
   "outputs": [],
   "source": [
    "cap.release()"
   ]
  },
  {
   "cell_type": "markdown",
   "metadata": {},
   "source": [
    "BGR 이 모두 동일하게 되면 그레이 색이 됩니다. 그렇지만 모델은 컬러모델임을 명심하세요."
   ]
  },
  {
   "cell_type": "code",
   "execution_count": 3,
   "metadata": {},
   "outputs": [],
   "source": [
    "#cap = cv2.VideoCapture(0)\n",
    "cap = cv2.VideoCapture('stopwatch.avi')\n",
    "\n",
    "if not cap.isOpened():\n",
    "    print(\"Video open failed!\")\n",
    "else :    \n",
    "    \n",
    "    w = round(cap.get(cv2.CAP_PROP_FRAME_WIDTH))\n",
    "    h = round(cap.get(cv2.CAP_PROP_FRAME_HEIGHT))\n",
    "    fps = cap.get(cv2.CAP_PROP_FPS)\n",
    "    \n",
    "    \n",
    "    fourcc = cv2.VideoWriter_fourcc(*'DIVX') # *'DIVX' == 'D', 'I', 'V', 'X'\n",
    "    \n",
    "    outputVideo = cv2.VideoWriter('output.avi', fourcc, fps/2, (w, h))\n",
    "    \n",
    "    \n",
    "    \n",
    "    while True:\n",
    "        ret, frame = cap.read()\n",
    "        \n",
    "        \n",
    "        if not ret:  break\n",
    "            \n",
    "        cv2.imshow('frame', frame)\n",
    "           \n",
    "        #frame[:,:,1] = frame[:,:,2]  = 0                \n",
    "        frame[:,:,1] = frame[:,:,0]\n",
    "        frame[:,:,2] = frame[:,:,0]\n",
    "        \n",
    "        \n",
    "        cv2.imshow('frame2', frame)\n",
    "            \n",
    "        outputVideo.write(frame)\n",
    "    \n",
    "    \n",
    "        \n",
    "\n",
    "        if cv2.waitKey(10) == 27:  break   # ESC\n",
    "\n",
    "outputVideo.release()\n",
    "cap.release()\n",
    "cv2.destroyAllWindows()"
   ]
  },
  {
   "cell_type": "markdown",
   "metadata": {},
   "source": [
    "# 3. 라인, 도형출력"
   ]
  },
  {
   "cell_type": "code",
   "execution_count": 4,
   "metadata": {},
   "outputs": [],
   "source": [
    "img = np.full((400, 400, 3), 128, np.uint8)\n",
    "\n",
    "cv2.line(img, (50, 50), (200, 50), (0, 0, 255))\n",
    "cv2.line(img, (50, 100), (200, 100), (255, 0, 255), 3)\n",
    "cv2.line(img, (50, 150), (200, 150), (255, 0, 0), 10)\n",
    "\n",
    "cv2.line(img, (250, 50), (350, 100), (0, 0, 255), 1, cv2.LINE_4)\n",
    "cv2.line(img, (250, 70), (350, 120), (255, 0, 255), 1, cv2.LINE_8)\n",
    "cv2.line(img, (250, 90), (350, 140), (255, 0, 0), 1, cv2.LINE_AA)\n",
    "\n",
    "cv2.arrowedLine(img, (50, 200), (150, 200), (0, 0, 255), 1)\n",
    "cv2.arrowedLine(img, (50, 250), (350, 250), (255, 0, 255), 1)\n",
    "cv2.arrowedLine(img, (50, 300), (350, 300), (255, 0, 0), 1, cv2.LINE_8, 0, 0.05)\n",
    "\n",
    "cv2.drawMarker(img, (50, 350), (0, 0, 255), cv2.MARKER_CROSS)\n",
    "cv2.drawMarker(img, (100, 350), (0, 0, 255), cv2.MARKER_TILTED_CROSS)\n",
    "cv2.drawMarker(img, (150, 350), (0, 0, 255), cv2.MARKER_STAR)\n",
    "cv2.drawMarker(img, (200, 350), (0, 0, 255), cv2.MARKER_DIAMOND)\n",
    "cv2.drawMarker(img, (250, 350), (0, 0, 255), cv2.MARKER_SQUARE)\n",
    "cv2.drawMarker(img, (300, 350), (0, 0, 255), cv2.MARKER_TRIANGLE_UP)\n",
    "cv2.drawMarker(img, (350, 350), (0, 0, 255), cv2.MARKER_TRIANGLE_DOWN)\n",
    "\n",
    "cv2.imshow(\"img\", img)\n",
    "cv2.waitKey()\n",
    "cv2.destroyAllWindows()"
   ]
  },
  {
   "cell_type": "markdown",
   "metadata": {},
   "source": [
    "polylines의 겨우 중간에 False인자를 주면 첫좌표와 끝좌표를 이어주지 않습니다."
   ]
  },
  {
   "cell_type": "code",
   "execution_count": 6,
   "metadata": {},
   "outputs": [],
   "source": [
    "img = np.full((400, 400, 3), 255, np.uint8)\n",
    "\n",
    "cv2.rectangle(img, (50, 50), (150, 100), (0, 0, 255), 2)\n",
    "cv2.rectangle(img, (50, 150), (150, 200), (0, 0, 128), -1)\n",
    "\n",
    "cv2.circle(img, (300, 120), 30, (255, 255, 0), -1, cv2.LINE_AA)\n",
    "cv2.circle(img, (300, 120), 60, (255, 0, 0), 3, cv2.LINE_AA)\n",
    "    \n",
    "    \n",
    "pts = np.array([[250, 250], [300, 250], [300, 300], [350, 300], [350, 350], [250, 350]])\n",
    "cv2.polylines(img, [pts], False, (255, 0, 255), 2)\n",
    "\n",
    "cv2.imshow(\"img\", img)\n",
    "cv2.waitKey()\n",
    "cv2.destroyAllWindows()"
   ]
  },
  {
   "cell_type": "markdown",
   "metadata": {},
   "source": [
    "# 4. 문자열"
   ]
  },
  {
   "cell_type": "code",
   "execution_count": 7,
   "metadata": {},
   "outputs": [],
   "source": [
    "img = np.full((500, 800, 3), 255, np.uint8)\n",
    "\n",
    "cv2.putText(img, \"FONT_HERSHEY_SIMPLEX\", (20, 50), cv2.FONT_HERSHEY_SIMPLEX, 1, (0, 0, 255))\n",
    "cv2.putText(img, \"FONT_HERSHEY_PLAIN\", (20, 100), cv2.FONT_HERSHEY_PLAIN, 1, (0, 0, 255))\n",
    "cv2.putText(img, \"FONT_HERSHEY_DUPLEX\", (20, 150), cv2.FONT_HERSHEY_DUPLEX, 1, (0, 0, 255))\n",
    "cv2.putText(img, \"FONT_HERSHEY_COMPLEX\", (20, 200), cv2.FONT_HERSHEY_COMPLEX, 1, (255, 0, 0))\n",
    "cv2.putText(img, \"FONT_HERSHEY_TRIPLEX\", (20, 250), cv2.FONT_HERSHEY_TRIPLEX, 1, (255, 0, 0))\n",
    "cv2.putText(img, \"FONT_HERSHEY_COMPLEX_SMALL\", (20, 300), cv2.FONT_HERSHEY_COMPLEX_SMALL, 1, (255, 0, 0))\n",
    "cv2.putText(img, \"FONT_HERSHEY_SCRIPT_SIMPLEX\", (20, 350), cv2.FONT_HERSHEY_SCRIPT_SIMPLEX, 1, (255, 0, 255))\n",
    "cv2.putText(img, \"FONT_HERSHEY_SCRIPT_COMPLEX\", (20, 400), cv2.FONT_HERSHEY_SCRIPT_COMPLEX, 1, (255, 0, 255))\n",
    "cv2.putText(img, \"FONT_HERSHEY_COMPLEX | FONT_ITALIC\", (20, 450), cv2.FONT_HERSHEY_COMPLEX | cv2.FONT_ITALIC, 1, (255, 0, 0))\n",
    "\n",
    "cv2.imshow(\"img\", img)\n",
    "cv2.waitKey()\n",
    "cv2.destroyAllWindows()"
   ]
  },
  {
   "cell_type": "markdown",
   "metadata": {},
   "source": [
    "# 5. 키보드, 마우스"
   ]
  },
  {
   "cell_type": "markdown",
   "metadata": {},
   "source": [
    "무한대기를 해줍니다. 다른 키를 누르면 동작을 수행합니다. 한 프레임씩 보고싶을때 사용합니다."
   ]
  },
  {
   "cell_type": "code",
   "execution_count": null,
   "metadata": {},
   "outputs": [],
   "source": [
    "cap = cv2.VideoCapture('stopwatch.avi')\n",
    "\n",
    "if not cap.isOpened():\n",
    "    print(\"Video open failed!\")\n",
    "else :\n",
    "    \n",
    "    while True:\n",
    "        \n",
    "        ret, frame = cap.read()\n",
    "\n",
    "        if not ret:  break\n",
    "\n",
    "        cv2.imshow('frame', frame)\n",
    "        \n",
    "        keycode = cv2.waitKey()\n",
    "        if keycode == 27 or keycode == ord('q'):  break   # ESC\n",
    "cap.release()\n",
    "cv2.destroyAllWindows()"
   ]
  },
  {
   "cell_type": "markdown",
   "metadata": {},
   "source": [
    "flags : 어떤 마우스 행위인지\n",
    "param : 주소"
   ]
  },
  {
   "cell_type": "code",
   "execution_count": 9,
   "metadata": {},
   "outputs": [
    {
     "name": "stdout",
     "output_type": "stream",
     "text": [
      "EVENT_LBUTTONDOWN: 252, 61\n",
      "EVENT_LBUTTONUP: 5, 270\n",
      "EVENT_LBUTTONDOWN: 412, 196\n",
      "EVENT_LBUTTONUP: 428, 387\n",
      "EVENT_LBUTTONDOWN: 140, 349\n",
      "EVENT_LBUTTONUP: 328, 442\n",
      "EVENT_LBUTTONDOWN: 304, 75\n",
      "EVENT_LBUTTONUP: 368, 162\n",
      "EVENT_LBUTTONDOWN: 77, 316\n",
      "EVENT_LBUTTONUP: 99, 354\n",
      "EVENT_LBUTTONDOWN: 55, 392\n",
      "EVENT_LBUTTONUP: 105, 500\n",
      "EVENT_LBUTTONDOWN: 213, 500\n",
      "EVENT_LBUTTONUP: 287, 550\n",
      "EVENT_LBUTTONDOWN: 357, 494\n",
      "EVENT_LBUTTONUP: 397, 527\n",
      "EVENT_LBUTTONDOWN: 480, 110\n",
      "EVENT_LBUTTONUP: 480, 110\n",
      "EVENT_LBUTTONDOWN: 482, 146\n",
      "EVENT_LBUTTONUP: 482, 146\n",
      "EVENT_LBUTTONUP: 482, 149\n",
      "EVENT_LBUTTONDOWN: 485, 166\n",
      "EVENT_LBUTTONUP: 485, 168\n",
      "EVENT_LBUTTONDOWN: 486, 218\n",
      "EVENT_LBUTTONUP: 486, 219\n",
      "EVENT_LBUTTONDOWN: 486, 249\n",
      "EVENT_LBUTTONUP: 490, 260\n",
      "EVENT_LBUTTONDOWN: 490, 278\n",
      "EVENT_LBUTTONUP: 488, 296\n",
      "EVENT_LBUTTONDOWN: 518, 1\n",
      "EVENT_LBUTTONUP: 517, 1\n"
     ]
    }
   ],
   "source": [
    "def on_mouse(event, x, y, flags, param):\n",
    "    global oldx, oldy\n",
    "\n",
    "    if event == cv2.EVENT_LBUTTONDOWN:\n",
    "        oldx, oldy = x, y\n",
    "        print('EVENT_LBUTTONDOWN: %d, %d' % (x, y))\n",
    "\n",
    "    elif event == cv2.EVENT_LBUTTONUP:\n",
    "        print('EVENT_LBUTTONUP: %d, %d' % (x, y))\n",
    "        cv2.rectangle(img, (oldx, oldy), (x, y), (0, 255, 255), 10)\n",
    "        cv2.imshow('img', img)\n",
    "        oldx, oldy = x, y\n",
    "\n",
    "img = cv2.imread('sunset.jpg')\n",
    "\n",
    "\n",
    "cv2.namedWindow('img')\n",
    "cv2.setMouseCallback('img', on_mouse)\n",
    "\n",
    "cv2.imshow('img', img)\n",
    "cv2.waitKey()\n",
    "cv2.destroyAllWindows()"
   ]
  },
  {
   "cell_type": "markdown",
   "metadata": {},
   "source": [
    "AND연산자를 통하여 flags가 마우스 왼쪽버튼이 눌렸을 때에만 마우스무브 이벤트가 동작하도록 합니다.\n",
    "만약 == 같은 연산자를 쓰게된다면 ctrl을 눌렀을 때에는 동작하지 않을 수 있습니다.\n",
    "\n",
    "그리고 마지막에 마우스 콜백함수를 사용해서 마우스의 정보나 액션을 수행할 수 있습니다."
   ]
  },
  {
   "cell_type": "code",
   "execution_count": 11,
   "metadata": {},
   "outputs": [
    {
     "name": "stdout",
     "output_type": "stream",
     "text": [
      "EVENT_LBUTTONDOWN: 233, 196\n",
      "EVENT_LBUTTONUP: 187, 314\n",
      "EVENT_LBUTTONDOWN: 129, 135\n",
      "EVENT_LBUTTONUP: 129, 135\n",
      "EVENT_LBUTTONDOWN: 128, 135\n",
      "EVENT_LBUTTONUP: 128, 135\n",
      "EVENT_LBUTTONDOWN: 168, 155\n",
      "EVENT_LBUTTONUP: 321, 143\n",
      "EVENT_LBUTTONDOWN: 78, 393\n",
      "EVENT_LBUTTONUP: 109, 450\n"
     ]
    }
   ],
   "source": [
    "def on_mouse(event, x, y, flags, param):\n",
    "    global oldx, oldy\n",
    "\n",
    "    if event == cv2.EVENT_LBUTTONDOWN:\n",
    "        oldx, oldy = x, y\n",
    "        print('EVENT_LBUTTONDOWN: %d, %d' % (x, y))\n",
    "\n",
    "    elif event == cv2.EVENT_LBUTTONUP:\n",
    "        print('EVENT_LBUTTONUP: %d, %d' % (x, y))\n",
    "\n",
    "    elif event == cv2.EVENT_MOUSEMOVE:\n",
    "        if flags & cv2.EVENT_FLAG_LBUTTON:\n",
    "            cv2.line(img, (oldx, oldy), (x, y), (0, 255, 255), 10)\n",
    "            cv2.imshow('img', img)\n",
    "            oldx, oldy = x, y\n",
    "\n",
    "\n",
    "img = cv2.imread('sunset.jpg')\n",
    "\n",
    "\n",
    "cv2.namedWindow('img')\n",
    "cv2.setMouseCallback('img', on_mouse)\n",
    "\n",
    "cv2.imshow('img', img)\n",
    "cv2.waitKey()\n",
    "cv2.destroyAllWindows()"
   ]
  },
  {
   "cell_type": "markdown",
   "metadata": {},
   "source": [
    "# 3주차 과제"
   ]
  },
  {
   "cell_type": "code",
   "execution_count": 2,
   "metadata": {},
   "outputs": [],
   "source": [
    "cap = cv2.VideoCapture('stopwatch.avi')\n",
    "\n",
    "if not cap.isOpened():\n",
    "    print(\"Video open failed!\")\n",
    "else :    \n",
    "    #이미지 프레임 사이즈값을 받습니다.\n",
    "    w = round(cap.get(cv2.CAP_PROP_FRAME_WIDTH))\n",
    "    h = round(cap.get(cv2.CAP_PROP_FRAME_HEIGHT))\n",
    "    #전체 프레임 수값을 받습니다.\n",
    "    frame_cnt = round(cap.get(cv2.CAP_PROP_FRAME_COUNT))\n",
    "    #초당 프레임 값을받습니다.\n",
    "    fps = cap.get(cv2.CAP_PROP_FPS)\n",
    "    #한 프레임당 걸리는 시간을 받습니다.\n",
    "    delay = int(1000 / fps)\n",
    "    #영상을 저장할 코덱정보를 저장합니다.\n",
    "    fourcc = cv2.VideoWriter_fourcc(*'DIVX') # *'DIVX' == 'D', 'I', 'V', 'X'\n",
    "    #영상을 저장할 이름을 지정합니다.\n",
    "    outputVideo = cv2.VideoWriter('output.avi', fourcc, fps, (w, h))\n",
    "    \n",
    "    \n",
    "    #전체 프레임까지 영상 루프를 돌립니다.\n",
    "    for i in range(frame_cnt): \n",
    "        ret, frame = cap.read()\n",
    "        \n",
    "        \n",
    "        if not ret:  break\n",
    "        label='%d'%(i)    \n",
    "        \n",
    "        #이미지를 grayScale로 변환합니다. 이렇게 함으로써 영상자체는 3채널이지만 보기에는 grayScale입니다.                      \n",
    "        frame[:,:,1] = frame[:,:,0]\n",
    "        frame[:,:,2] = frame[:,:,0]\n",
    "        #영상이 3채널 GrayScale이기때문에 글자가 빨간색으로 나오는데 무리없습니다.\n",
    "        #좌표는 (X,Y 임을 잊지맙시다)\n",
    "        frame=cv2.putText(frame,label , (20, 30), cv2.FONT_HERSHEY_SIMPLEX, 1, (0, 0, 255))\n",
    "        cv2.imshow('201601360', frame)\n",
    "            \n",
    "        outputVideo.write(frame)\n",
    "        #프레임당 기존의 딜레이를 줍니다.\n",
    "        cv2.waitKey(delay)\n",
    "    \n",
    "        \n",
    "\n",
    "        if cv2.waitKey(10) == 27:  break   # ESC\n",
    "\n",
    "outputVideo.release()\n",
    "cap.release()\n",
    "cv2.destroyAllWindows()"
   ]
  },
  {
   "cell_type": "code",
   "execution_count": null,
   "metadata": {},
   "outputs": [],
   "source": []
  }
 ],
 "metadata": {
  "kernelspec": {
   "display_name": "Python 3",
   "language": "python",
   "name": "python3"
  },
  "language_info": {
   "codemirror_mode": {
    "name": "ipython",
    "version": 3
   },
   "file_extension": ".py",
   "mimetype": "text/x-python",
   "name": "python",
   "nbconvert_exporter": "python",
   "pygments_lexer": "ipython3",
   "version": "3.8.5"
  }
 },
 "nbformat": 4,
 "nbformat_minor": 4
}
